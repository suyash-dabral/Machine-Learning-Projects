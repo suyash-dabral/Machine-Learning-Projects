{
 "cells": [
  {
   "cell_type": "markdown",
   "metadata": {},
   "source": [
    "# Import Libraries"
   ]
  },
  {
   "cell_type": "code",
   "execution_count": 21,
   "metadata": {},
   "outputs": [],
   "source": [
    "import pandas as pd\n",
    "import numpy as np\n",
    "from sklearn.preprocessing import StandardScaler\n",
    "from sklearn.model_selection import train_test_split\n",
    "from sklearn.svm import SVC\n",
    "from sklearn.metrics import accuracy_score\n",
    "from sklearn.impute import SimpleImputer\n",
    "import joblib"
   ]
  },
  {
   "cell_type": "markdown",
   "metadata": {},
   "source": [
    "## Load And Preprocess the data"
   ]
  },
  {
   "cell_type": "code",
   "execution_count": 2,
   "metadata": {},
   "outputs": [],
   "source": [
    "# Load the data\n",
    "data = pd.read_csv(\"C:/Users/Afreen/.vscode/Coding/OpenCV/tasks/Hacktoberfest/loaneligibility/Loan_Data.csv\")\n",
    "\n",
    "# Encode 'Education' (Graduate = 1, Not Graduate = 0)\n",
    "data['Education'] = data['Education'].map({'Graduate': 1, 'Not Graduate': 0})\n",
    "\n",
    "# One-hot encode 'Property_Area' (Rural, Urban, Semiurban)\n",
    "data = pd.get_dummies(data, columns=['Property_Area'], drop_first=True)\n",
    "\n",
    "# Convert '3+' in 'Dependents' to 3 and fill missing values with 0\n",
    "data['Dependents'] = data['Dependents'].replace('3+', 3)\n",
    "data['Dependents'] = data['Dependents'].fillna(0).astype(int)\n",
    "\n",
    "# One-hot encode categorical columns including Loan_Status\n",
    "data = pd.get_dummies(data, columns=['Gender', 'Married', 'Self_Employed', 'Loan_Status'], drop_first=True)\n",
    "\n",
    "# Define numeric and categorical columns\n",
    "num_cols = ['LoanAmount', 'Loan_Amount_Term', 'Credit_History', 'ApplicantIncome', 'CoapplicantIncome']\n",
    "cat_cols = ['Gender_Male', 'Married_Yes', 'Dependents', 'Self_Employed_Yes']\n",
    "\n",
    "# Impute missing values\n",
    "imputer_num = SimpleImputer(strategy='mean')\n",
    "data[num_cols] = imputer_num.fit_transform(data[num_cols])\n",
    "\n",
    "imputer_cat = SimpleImputer(strategy='most_frequent')\n",
    "data[cat_cols] = imputer_cat.fit_transform(data[cat_cols])\n",
    "\n",
    "# Scaling numeric columns\n",
    "scaler = StandardScaler()\n",
    "data[num_cols] = scaler.fit_transform(data[num_cols])\n",
    "\n",
    "# Drop Loan_ID (identifier column)\n",
    "data = data.drop(columns=['Loan_ID'])\n",
    "\n",
    "# Separate the features and target\n",
    "X = data.drop(columns=['Loan_Status_Y'])  # Adjust this according to the one-hot encoding\n",
    "y = data['Loan_Status_Y']"
   ]
  },
  {
   "cell_type": "markdown",
   "metadata": {},
   "source": [
    "## Split into Train and test sets"
   ]
  },
  {
   "cell_type": "code",
   "execution_count": 3,
   "metadata": {},
   "outputs": [],
   "source": [
    "X_train, X_test, y_train, y_test = train_test_split(X, y, test_size=0.2, random_state=82)\n",
    "\n",
    "# Scale the features\n",
    "Scaler = StandardScaler()\n",
    "X_train_scaled = Scaler.fit_transform(X_train)\n",
    "X_test_scaled = Scaler.transform(X_test)"
   ]
  },
  {
   "cell_type": "markdown",
   "metadata": {},
   "source": [
    "## Train the Model and Predict on Test Set"
   ]
  },
  {
   "cell_type": "code",
   "execution_count": 4,
   "metadata": {},
   "outputs": [
    {
     "name": "stdout",
     "output_type": "stream",
     "text": [
      "Accuracy: 0.8048780487804879\n"
     ]
    }
   ],
   "source": [
    "svm = SVC()\n",
    "svm.fit(X_train_scaled, y_train)\n",
    "\n",
    "# Predict on the test set\n",
    "y_pred = svm.predict(X_test_scaled)\n",
    "accuracy = accuracy_score(y_test, y_pred)\n",
    "print(f'Accuracy: {accuracy}')\n"
   ]
  },
  {
   "cell_type": "markdown",
   "metadata": {},
   "source": [
    "## Find the best Parameters and predict the Accuracy score using those parameters"
   ]
  },
  {
   "cell_type": "code",
   "execution_count": 5,
   "metadata": {},
   "outputs": [
    {
     "name": "stdout",
     "output_type": "stream",
     "text": [
      "Best Parameters: {'C': 10, 'gamma': 0.01, 'kernel': 'rbf'}\n",
      "Best Accuracy: 0.8130081300813008\n"
     ]
    }
   ],
   "source": [
    "best_params = {'C': 10, 'gamma': 0.01, 'kernel': 'rbf'}\n",
    "print(f'Best Parameters: {best_params}')\n",
    "\n",
    "# Train the best model\n",
    "best_svm = SVC(C=best_params['C'], gamma=best_params['gamma'], kernel=best_params['kernel'])\n",
    "best_svm.fit(X_train_scaled, y_train)\n",
    "\n",
    "# Accuracy for the best model\n",
    "y_pred_best = best_svm.predict(X_test_scaled)\n",
    "best_accuracy = accuracy_score(y_test, y_pred_best)\n",
    "print(f'Best Accuracy: {best_accuracy}')\n"
   ]
  },
  {
   "cell_type": "markdown",
   "metadata": {},
   "source": [
    "## Save the Best Model"
   ]
  },
  {
   "cell_type": "code",
   "execution_count": 25,
   "metadata": {},
   "outputs": [
    {
     "data": {
      "text/plain": [
       "['scaler.pkl']"
      ]
     },
     "execution_count": 25,
     "metadata": {},
     "output_type": "execute_result"
    }
   ],
   "source": [
    "# Save the best model\n",
    "joblib.dump(best_svm, 'loan_eligibility_model.pkl')\n",
    "joblib.dump(scaler, 'scaler.pkl')"
   ]
  }
 ],
 "metadata": {
  "kernelspec": {
   "display_name": "Python 3",
   "language": "python",
   "name": "python3"
  },
  "language_info": {
   "codemirror_mode": {
    "name": "ipython",
    "version": 3
   },
   "file_extension": ".py",
   "mimetype": "text/x-python",
   "name": "python",
   "nbconvert_exporter": "python",
   "pygments_lexer": "ipython3",
   "version": "3.12.3"
  }
 },
 "nbformat": 4,
 "nbformat_minor": 2
}
